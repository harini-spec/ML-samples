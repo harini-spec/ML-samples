{
 "cells": [
  {
   "cell_type": "code",
   "execution_count": 3,
   "id": "2cf94e26-0f24-4a30-912e-0a988aed4bc7",
   "metadata": {},
   "outputs": [],
   "source": [
    "import numpy as np\n",
    "import pandas as pd\n",
    "import matplotlib.pyplot as plt\n",
    "import seaborn as sns"
   ]
  },
  {
   "cell_type": "code",
   "execution_count": 10,
   "id": "25b806cb-84e4-47e5-ab49-43e52a65f95d",
   "metadata": {},
   "outputs": [
    {
     "name": "stdout",
     "output_type": "stream",
     "text": [
      "<class 'pandas.core.frame.DataFrame'>\n",
      "RangeIndex: 500 entries, 0 to 499\n",
      "Data columns (total 2 columns):\n",
      " #   Column       Non-Null Count  Dtype  \n",
      "---  ------       --------------  -----  \n",
      " 0   Temperature  500 non-null    float64\n",
      " 1   Revenue      500 non-null    float64\n",
      "dtypes: float64(2)\n",
      "memory usage: 7.9 KB\n"
     ]
    }
   ],
   "source": [
    "IceCream = pd.read_csv(\"data/IceCreamData.csv\")\n",
    "IceCream.head()\n",
    "IceCream.tail()\n",
    "IceCream.describe()\n",
    "IceCream.info()"
   ]
  },
  {
   "cell_type": "code",
   "execution_count": 11,
   "id": "6f7b1b46-4d78-4948-9e00-93efd004c4dc",
   "metadata": {},
   "outputs": [],
   "source": [
    "y = IceCream['Revenue']\n",
    "X = IceCream[['Temperature']]\n",
    "\n",
    "from sklearn.model_selection import train_test_split\n",
    "\n",
    "#splitting the data into train and test data\n",
    "X_train, X_test, y_train, y_test = train_test_split(X, y, test_size=0.25)"
   ]
  },
  {
   "cell_type": "code",
   "execution_count": 6,
   "id": "31d3ebd9-f447-44fd-bc72-4bce7e4d625b",
   "metadata": {},
   "outputs": [
    {
     "data": {
      "text/plain": [
       "LinearRegression()"
      ]
     },
     "execution_count": 6,
     "metadata": {},
     "output_type": "execute_result"
    }
   ],
   "source": [
    "X_train.shape\n",
    "\n",
    "from sklearn.linear_model import LinearRegression\n",
    "\n",
    "#instatiation of an object out of our class\n",
    "#when \"fit_intercept = True\" - asking the model to obtain intercept which is value of 'm' and 'b'\n",
    "#when \"fit_intercept = False\" - model will obtain only the 'm' value; 'b' will be zero by default\n",
    "regressor = LinearRegression(fit_intercept =True)\n",
    "regressor.fit(X_train,y_train)"
   ]
  },
  {
   "cell_type": "code",
   "execution_count": 7,
   "id": "b4513334-72d8-47d4-b6dc-e7ddbff8227c",
   "metadata": {},
   "outputs": [
    {
     "name": "stdout",
     "output_type": "stream",
     "text": [
      "Linear Model Coefficient (m):  [21.47465796]\n",
      "Linear Model Coefficient (b):  43.710167618350226\n"
     ]
    }
   ],
   "source": [
    "print('Linear Model Coefficient (m): ', regressor.coef_)\n",
    "print('Linear Model Coefficient (b): ', regressor.intercept_)\n"
   ]
  },
  {
   "cell_type": "code",
   "execution_count": 8,
   "id": "81d5fcd5-03ca-496a-9efd-eddb07551691",
   "metadata": {},
   "outputs": [
    {
     "data": {
      "text/plain": [
       "430    603.324631\n",
       "415    477.315188\n",
       "456    892.947720\n",
       "48     451.450784\n",
       "238    675.807151\n",
       "          ...    \n",
       "113    733.215828\n",
       "351    216.183462\n",
       "130    496.011917\n",
       "191    471.701557\n",
       "75     653.986736\n",
       "Name: Revenue, Length: 125, dtype: float64"
      ]
     },
     "execution_count": 8,
     "metadata": {},
     "output_type": "execute_result"
    }
   ],
   "source": [
    "y_predict = regressor.predict(X_test)\n",
    "y_predict\n",
    "y_test"
   ]
  },
  {
   "cell_type": "code",
   "execution_count": 9,
   "id": "cbb8e302-d6ac-4191-90b0-0526aab4ebbf",
   "metadata": {},
   "outputs": [
    {
     "name": "stderr",
     "output_type": "stream",
     "text": [
      "/home/harini/miniconda3/envs/ML/lib/python3.8/site-packages/sklearn/base.py:450: UserWarning: X does not have valid feature names, but LinearRegression was fitted with feature names\n",
      "  warnings.warn(\n"
     ]
    },
    {
     "data": {
      "text/plain": [
       "array([687.94990641])"
      ]
     },
     "execution_count": 9,
     "metadata": {},
     "output_type": "execute_result"
    }
   ],
   "source": [
    "y_predict = regressor.predict([[30]])\n",
    "y_predict"
   ]
  },
  {
   "cell_type": "code",
   "execution_count": null,
   "id": "b588ed79-aedc-41c3-81ea-e1ec3316c237",
   "metadata": {},
   "outputs": [],
   "source": []
  },
  {
   "cell_type": "code",
   "execution_count": null,
   "id": "1a4a3aa1-d639-43ec-98b2-7bbfee7e2ae2",
   "metadata": {},
   "outputs": [],
   "source": []
  }
 ],
 "metadata": {
  "kernelspec": {
   "display_name": "Python 3 (ipykernel)",
   "language": "python",
   "name": "python3"
  },
  "language_info": {
   "codemirror_mode": {
    "name": "ipython",
    "version": 3
   },
   "file_extension": ".py",
   "mimetype": "text/x-python",
   "name": "python",
   "nbconvert_exporter": "python",
   "pygments_lexer": "ipython3",
   "version": "3.8.12"
  }
 },
 "nbformat": 4,
 "nbformat_minor": 5
}
