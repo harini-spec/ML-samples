{
 "cells": [
  {
   "cell_type": "code",
   "execution_count": 1,
   "id": "743e8dc7-f3c0-4194-a8c3-4ed27ed5ddbf",
   "metadata": {},
   "outputs": [],
   "source": [
    "# https://www.w3schools.com/python/python_ml_scale.asp"
   ]
  },
  {
   "cell_type": "code",
   "execution_count": 1,
   "id": "a484586a-4936-4e25-9f41-efce281071d4",
   "metadata": {},
   "outputs": [],
   "source": [
    "import numpy as np"
   ]
  },
  {
   "cell_type": "code",
   "execution_count": 2,
   "id": "1ffc3102-8229-41e1-b1b3-18fdd90e1925",
   "metadata": {},
   "outputs": [
    {
     "data": {
      "text/plain": [
       "array([ 0,  1,  2,  3,  4,  5,  6,  7,  8,  9, 10, 11, 12, 13, 14, 15, 16,\n",
       "       17, 18, 19, 20, 21, 22, 23, 24, 25, 26, 27, 28, 29, 30, 31, 32, 33,\n",
       "       34, 35, 36, 37, 38, 39, 40, 41, 42, 43, 44, 45, 46, 47, 48, 49, 50,\n",
       "       51, 52, 53, 54, 55, 56, 57, 58, 59, 60, 61, 62, 63, 64, 65, 66, 67,\n",
       "       68, 69, 70, 71, 72, 73, 74, 75, 76, 77, 78, 79, 80, 81, 82, 83, 84,\n",
       "       85, 86, 87, 88, 89, 90, 91, 92, 93, 94, 95, 96, 97, 98, 99])"
      ]
     },
     "execution_count": 2,
     "metadata": {},
     "output_type": "execute_result"
    }
   ],
   "source": [
    "# test = np.random(0,100)\n",
    "test = np.arange(0,100)\n",
    "test"
   ]
  },
  {
   "cell_type": "code",
   "execution_count": 3,
   "id": "da7f5ebd-83d2-49fb-a6c4-b5a26fd61cd4",
   "metadata": {},
   "outputs": [
    {
     "data": {
      "text/plain": [
       "array([14, 71, 49, 17, 78, 88, 66, 32, 19, 78, 59, 52, 62, 10, 94,  2, 86,\n",
       "        0, 22, 38, 23, 79, 11, 55, 95,  7, 98, 65, 65, 17, 78, 77, 91, 14,\n",
       "       89,  1,  6, 21, 14, 38, 38, 66, 30, 25, 72, 30, 19, 37, 15, 15, 45,\n",
       "       18, 37, 17, 14, 65, 44, 14, 60, 63, 48, 74, 94, 44, 61, 73, 61, 37,\n",
       "        3, 58,  4, 58, 84, 14, 71, 63, 98, 56,  4, 41, 62, 95, 47, 89, 31,\n",
       "       34, 37, 97,  9, 92, 66,  5, 94, 53, 13,  1, 40, 13, 57, 85])"
      ]
     },
     "execution_count": 3,
     "metadata": {},
     "output_type": "execute_result"
    }
   ],
   "source": [
    "a = np.random.randint(100, size=(100))\n",
    "a"
   ]
  },
  {
   "cell_type": "code",
   "execution_count": 4,
   "id": "8ffc99bb-dc24-4df1-b9ea-18ead6850745",
   "metadata": {},
   "outputs": [],
   "source": [
    "import pandas\n",
    "from sklearn import linear_model\n",
    "from sklearn.preprocessing import StandardScaler"
   ]
  },
  {
   "cell_type": "code",
   "execution_count": 5,
   "id": "3968e5d7-9a74-451b-b093-1f172363c8bb",
   "metadata": {},
   "outputs": [],
   "source": [
    "scale = StandardScaler()"
   ]
  },
  {
   "cell_type": "code",
   "execution_count": 28,
   "id": "766ef020-8a63-43a5-862b-4bb0588baff8",
   "metadata": {},
   "outputs": [],
   "source": [
    "df = pandas.read_csv(\"data/cars2.csv\")"
   ]
  },
  {
   "cell_type": "code",
   "execution_count": 29,
   "id": "370888b2-2ed1-4579-890e-c4e66968908c",
   "metadata": {},
   "outputs": [
    {
     "data": {
      "text/html": [
       "<div>\n",
       "<style scoped>\n",
       "    .dataframe tbody tr th:only-of-type {\n",
       "        vertical-align: middle;\n",
       "    }\n",
       "\n",
       "    .dataframe tbody tr th {\n",
       "        vertical-align: top;\n",
       "    }\n",
       "\n",
       "    .dataframe thead th {\n",
       "        text-align: right;\n",
       "    }\n",
       "</style>\n",
       "<table border=\"1\" class=\"dataframe\">\n",
       "  <thead>\n",
       "    <tr style=\"text-align: right;\">\n",
       "      <th></th>\n",
       "      <th>Volume</th>\n",
       "      <th>Weight</th>\n",
       "      <th>CO2</th>\n",
       "    </tr>\n",
       "  </thead>\n",
       "  <tbody>\n",
       "    <tr>\n",
       "      <th>count</th>\n",
       "      <td>36.000000</td>\n",
       "      <td>36.000000</td>\n",
       "      <td>36.000000</td>\n",
       "    </tr>\n",
       "    <tr>\n",
       "      <th>mean</th>\n",
       "      <td>1.611111</td>\n",
       "      <td>1292.277778</td>\n",
       "      <td>102.027778</td>\n",
       "    </tr>\n",
       "    <tr>\n",
       "      <th>std</th>\n",
       "      <td>0.388975</td>\n",
       "      <td>242.123889</td>\n",
       "      <td>7.454571</td>\n",
       "    </tr>\n",
       "    <tr>\n",
       "      <th>min</th>\n",
       "      <td>0.900000</td>\n",
       "      <td>790.000000</td>\n",
       "      <td>90.000000</td>\n",
       "    </tr>\n",
       "    <tr>\n",
       "      <th>25%</th>\n",
       "      <td>1.475000</td>\n",
       "      <td>1117.250000</td>\n",
       "      <td>97.750000</td>\n",
       "    </tr>\n",
       "    <tr>\n",
       "      <th>50%</th>\n",
       "      <td>1.600000</td>\n",
       "      <td>1329.000000</td>\n",
       "      <td>99.000000</td>\n",
       "    </tr>\n",
       "    <tr>\n",
       "      <th>75%</th>\n",
       "      <td>2.000000</td>\n",
       "      <td>1418.250000</td>\n",
       "      <td>105.000000</td>\n",
       "    </tr>\n",
       "    <tr>\n",
       "      <th>max</th>\n",
       "      <td>2.500000</td>\n",
       "      <td>1746.000000</td>\n",
       "      <td>120.000000</td>\n",
       "    </tr>\n",
       "  </tbody>\n",
       "</table>\n",
       "</div>"
      ],
      "text/plain": [
       "          Volume       Weight         CO2\n",
       "count  36.000000    36.000000   36.000000\n",
       "mean    1.611111  1292.277778  102.027778\n",
       "std     0.388975   242.123889    7.454571\n",
       "min     0.900000   790.000000   90.000000\n",
       "25%     1.475000  1117.250000   97.750000\n",
       "50%     1.600000  1329.000000   99.000000\n",
       "75%     2.000000  1418.250000  105.000000\n",
       "max     2.500000  1746.000000  120.000000"
      ]
     },
     "execution_count": 29,
     "metadata": {},
     "output_type": "execute_result"
    }
   ],
   "source": [
    "df.describe()"
   ]
  },
  {
   "cell_type": "code",
   "execution_count": 10,
   "id": "d111b277-c159-434a-8df7-a8c6fe65a043",
   "metadata": {},
   "outputs": [],
   "source": [
    "X = df[['Weight', 'Volume']]"
   ]
  },
  {
   "cell_type": "code",
   "execution_count": 11,
   "id": "dea5418e-ac29-4ae0-8974-9a4e537ac301",
   "metadata": {},
   "outputs": [
    {
     "name": "stdout",
     "output_type": "stream",
     "text": [
      "StandardScaler()\n"
     ]
    }
   ],
   "source": [
    "print(scale.fit(X))"
   ]
  },
  {
   "cell_type": "code",
   "execution_count": 12,
   "id": "5a7f2a25-156b-4066-8932-4eaff50a148a",
   "metadata": {},
   "outputs": [
    {
     "name": "stdout",
     "output_type": "stream",
     "text": [
      "[1292.27777778    1.61111111]\n"
     ]
    }
   ],
   "source": [
    "print(scale.mean_)"
   ]
  },
  {
   "cell_type": "code",
   "execution_count": 13,
   "id": "ebbf8bc8-aceb-4f8b-b6b6-62e63ea466b3",
   "metadata": {},
   "outputs": [],
   "source": [
    "scaledX = scale.fit_transform(X)"
   ]
  },
  {
   "cell_type": "code",
   "execution_count": 14,
   "id": "ba8ed088-f367-4765-972c-a0f394b5513a",
   "metadata": {},
   "outputs": [],
   "source": [
    "# scaledX"
   ]
  },
  {
   "cell_type": "code",
   "execution_count": 15,
   "id": "3855075a-3a1f-4f0d-85f6-4b2b24728069",
   "metadata": {},
   "outputs": [],
   "source": [
    "from sklearn.preprocessing import Normalizer\n",
    "import seaborn as sns"
   ]
  },
  {
   "cell_type": "code",
   "execution_count": 16,
   "id": "075f877b-5d8a-44ae-908a-2b35d7c58c38",
   "metadata": {},
   "outputs": [],
   "source": [
    "X = df[['Weight']]"
   ]
  },
  {
   "cell_type": "code",
   "execution_count": 17,
   "id": "c3e483fa-bcfd-4e40-8be5-40449a6cc2bc",
   "metadata": {},
   "outputs": [],
   "source": [
    "sns.set_style('whitegrid')"
   ]
  },
  {
   "cell_type": "code",
   "execution_count": 18,
   "id": "8b7e1952-103d-4c54-b0c1-898763460311",
   "metadata": {},
   "outputs": [
    {
     "name": "stderr",
     "output_type": "stream",
     "text": [
      "/home/harini/miniconda3/envs/ML/lib/python3.8/site-packages/seaborn/distributions.py:2619: FutureWarning: `distplot` is a deprecated function and will be removed in a future version. Please adapt your code to use either `displot` (a figure-level function with similar flexibility) or `histplot` (an axes-level function for histograms).\n",
      "  warnings.warn(msg, FutureWarning)\n"
     ]
    },
    {
     "data": {
      "text/plain": [
       "<AxesSubplot:xlabel='Weight'>"
      ]
     },
     "execution_count": 18,
     "metadata": {},
     "output_type": "execute_result"
    },
    {
     "data": {
      "image/png": "[encoded data removed]",
      "text/plain": [
       "<Figure size 432x288 with 1 Axes>"
      ]
     },
     "metadata": {},
     "output_type": "display_data"
    }
   ],
   "source": [
    "sns.distplot(df['Weight'], kde = False, color ='red', bins = 30)"
   ]
  },
  {
   "cell_type": "code",
   "execution_count": 19,
   "id": "f5ecfcca-2dd1-4f39-a0a0-e0beed2a3d56",
   "metadata": {},
   "outputs": [],
   "source": [
    "transformer = Normalizer().fit(X)"
   ]
  },
  {
   "cell_type": "code",
   "execution_count": 20,
   "id": "57019408-76c8-4217-823a-ce9a4fe13675",
   "metadata": {},
   "outputs": [],
   "source": [
    "transformed = transformer.transform(X)"
   ]
  },
  {
   "cell_type": "code",
   "execution_count": 21,
   "id": "8151f13e-70e0-4e1f-9bdb-2729d7681084",
   "metadata": {},
   "outputs": [
    {
     "name": "stderr",
     "output_type": "stream",
     "text": [
      "/home/harini/miniconda3/envs/ML/lib/python3.8/site-packages/seaborn/distributions.py:2619: FutureWarning: `distplot` is a deprecated function and will be removed in a future version. Please adapt your code to use either `displot` (a figure-level function with similar flexibility) or `histplot` (an axes-level function for histograms).\n",
      "  warnings.warn(msg, FutureWarning)\n"
     ]
    },
    {
     "data": {
      "text/plain": [
       "<AxesSubplot:>"
      ]
     },
     "execution_count": 21,
     "metadata": {},
     "output_type": "execute_result"
    },
    {
     "data": {
      "image/png": "[encoded data removed]",
      "text/plain": [
       "<Figure size 432x288 with 1 Axes>"
      ]
     },
     "metadata": {},
     "output_type": "display_data"
    }
   ],
   "source": [
    "sns.distplot(transformed, kde = False, color ='red', bins = 30)"
   ]
  },
  {
   "cell_type": "code",
   "execution_count": 22,
   "id": "811c2cff-beeb-402a-b879-c4c08120b0f9",
   "metadata": {},
   "outputs": [],
   "source": [
    "X = df[['Volume']]"
   ]
  },
  {
   "cell_type": "code",
   "execution_count": 23,
   "id": "45fc000a-58fd-4406-84c4-64a4471cdb3a",
   "metadata": {},
   "outputs": [],
   "source": [
    "sns.set_style('whitegrid')"
   ]
  },
  {
   "cell_type": "code",
   "execution_count": 24,
   "id": "ef4b8d85-de85-44ae-b78a-6d37412e0a9f",
   "metadata": {},
   "outputs": [
    {
     "name": "stderr",
     "output_type": "stream",
     "text": [
      "/home/harini/miniconda3/envs/ML/lib/python3.8/site-packages/seaborn/distributions.py:2619: FutureWarning: `distplot` is a deprecated function and will be removed in a future version. Please adapt your code to use either `displot` (a figure-level function with similar flexibility) or `histplot` (an axes-level function for histograms).\n",
      "  warnings.warn(msg, FutureWarning)\n"
     ]
    },
    {
     "data": {
      "text/plain": [
       "<AxesSubplot:xlabel='Volume'>"
      ]
     },
     "execution_count": 24,
     "metadata": {},
     "output_type": "execute_result"
    },
    {
     "data": {
      "image/png": "[encoded data removed]",
      "text/plain": [
       "<Figure size 432x288 with 1 Axes>"
      ]
     },
     "metadata": {},
     "output_type": "display_data"
    }
   ],
   "source": [
    "sns.distplot(df['Volume'], kde = False, color ='red', bins = 30)"
   ]
  },
  {
   "cell_type": "code",
   "execution_count": 25,
   "id": "d45e1722-4712-4d70-b91b-bb5f4d81f509",
   "metadata": {},
   "outputs": [],
   "source": [
    "transformer = Normalizer().fit(X)"
   ]
  },
  {
   "cell_type": "code",
   "execution_count": 26,
   "id": "e5bfd810-8031-44e2-bde3-9a3ead6f7127",
   "metadata": {},
   "outputs": [],
   "source": [
    "transformed = transformer.transform(X)"
   ]
  },
  {
   "cell_type": "code",
   "execution_count": 27,
   "id": "cec3cec8-3cd3-4052-863a-c9b8fbde9d65",
   "metadata": {},
   "outputs": [
    {
     "name": "stderr",
     "output_type": "stream",
     "text": [
      "/home/harini/miniconda3/envs/ML/lib/python3.8/site-packages/seaborn/distributions.py:2619: FutureWarning: `distplot` is a deprecated function and will be removed in a future version. Please adapt your code to use either `displot` (a figure-level function with similar flexibility) or `histplot` (an axes-level function for histograms).\n",
      "  warnings.warn(msg, FutureWarning)\n"
     ]
    },
    {
     "data": {
      "text/plain": [
       "<AxesSubplot:>"
      ]
     },
     "execution_count": 27,
     "metadata": {},
     "output_type": "execute_result"
    },
    {
     "data": {
      "image/png": "[encoded data removed]",
      "text/plain": [
       "<Figure size 432x288 with 1 Axes>"
      ]
     },
     "metadata": {},
     "output_type": "display_data"
    }
   ],
   "source": [
    "sns.distplot(transformed, kde = False, color ='red', bins = 30)"
   ]
  },
  {
   "cell_type": "code",
   "execution_count": null,
   "id": "99b95d09-4529-4368-ab95-81672c427982",
   "metadata": {},
   "outputs": [],
   "source": []
  }
 ],
 "metadata": {
  "kernelspec": {
   "display_name": "Python 3 (ipykernel)",
   "language": "python",
   "name": "python3"
  },
  "language_info": {
   "codemirror_mode": {
    "name": "ipython",
    "version": 3
   },
   "file_extension": ".py",
   "mimetype": "text/x-python",
   "name": "python",
   "nbconvert_exporter": "python",
   "pygments_lexer": "ipython3",
   "version": "3.8.12"
  }
 },
 "nbformat": 4,
 "nbformat_minor": 5
}
